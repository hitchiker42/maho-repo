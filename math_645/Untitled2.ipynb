{
 "cells": [
  {
   "cell_type": "code",
   "execution_count": 1,
   "metadata": {
    "autoscroll": "json-false",
    "collapsed": false,
    "ein.tags": [
     "worksheet-0"
    ],
    "slideshow": {
     "slide_type": "-"
    }
   },
   "outputs": [],
   "source": [
    "import numpy as np;\n",
    "from numpy import *;\n",
    "import scipy as sci;\n",
    "import scipy.linalg as la;\n",
    "import matplotlib as mpl;\n",
    "import matplotlib.pyplot as plt;\n",
    "import sympy as sym;"
   ]
  },
  {
   "cell_type": "code",
   "execution_count": 78,
   "metadata": {
    "autoscroll": "json-false",
    "collapsed": true,
    "ein.tags": [
     "worksheet-0"
    ],
    "slideshow": {
     "slide_type": "-"
    }
   },
   "outputs": [],
   "source": [
    "D = array([(0,0),(0,8),(5.5,1.58),(5.5,8),(6,8),(6,0),(0.5,6.42),(0.5,0)])"
   ]
  },
  {
   "cell_type": "code",
   "execution_count": 79,
   "metadata": {
    "autoscroll": "json-false",
    "collapsed": false,
    "ein.tags": [
     "worksheet-0"
    ],
    "slideshow": {
     "slide_type": "-"
    }
   },
   "outputs": [
    {
     "data": {
      "text/plain": [
       "[<matplotlib.patches.Polygon at 0x7f833c081400>]"
      ]
     },
     "execution_count": 79,
     "metadata": {},
     "output_type": "execute_result"
    }
   ],
   "source": [
    "plt.fill(D.T[0],D.T[1],'r')"
   ]
  },
  {
   "cell_type": "code",
   "execution_count": 27,
   "metadata": {
    "autoscroll": "json-false",
    "collapsed": false,
    "ein.tags": [
     "worksheet-0"
    ],
    "slideshow": {
     "slide_type": "-"
    }
   },
   "outputs": [
    {
     "data": {
      "text/plain": [
       "[-30, 30, -30, 30]"
      ]
     },
     "execution_count": 27,
     "metadata": {},
     "output_type": "execute_result"
    }
   ],
   "source": [
    "plt.axis([-30,30,-30,30])"
   ]
  },
  {
   "cell_type": "code",
   "execution_count": 84,
   "metadata": {
    "autoscroll": "json-false",
    "collapsed": false,
    "ein.tags": [
     "worksheet-0"
    ],
    "slideshow": {
     "slide_type": "-"
    }
   },
   "outputs": [],
   "source": [
    "import scipy.io"
   ]
  },
  {
   "cell_type": "code",
   "execution_count": 88,
   "metadata": {
    "autoscroll": "json-false",
    "collapsed": false,
    "ein.tags": [
     "worksheet-0"
    ],
    "slideshow": {
     "slide_type": "-"
    }
   },
   "outputs": [],
   "source": [
    "A = np.loadtxt(\"ps1_data.txt\")"
   ]
  },
  {
   "cell_type": "code",
   "execution_count": 90,
   "metadata": {
    "autoscroll": "json-false",
    "collapsed": false,
    "ein.tags": [
     "worksheet-0"
    ],
    "slideshow": {
     "slide_type": "-"
    }
   },
   "outputs": [],
   "source": [
    "(LU,p) = lup_decomp(A)"
   ]
  },
  {
   "cell_type": "code",
   "execution_count": 127,
   "metadata": {
    "autoscroll": "json-false",
    "collapsed": false,
    "ein.tags": [
     "worksheet-0"
    ],
    "slideshow": {
     "slide_type": "-"
    }
   },
   "outputs": [],
   "source": [
    "(LU_,p_) = la.lu_factor(A)"
   ]
  },
  {
   "cell_type": "code",
   "execution_count": 109,
   "metadata": {
    "autoscroll": "json-false",
    "collapsed": false,
    "ein.tags": [
     "worksheet-0"
    ],
    "slideshow": {
     "slide_type": "-"
    }
   },
   "outputs": [],
   "source": [
    "    b1 = array([2,3,-1,5,7])\n",
    "    b2 = array([15,29,8,4,-49])\n",
    "    b3 = array([8,-11,3,-8,-32])"
   ]
  },
  {
   "cell_type": "code",
   "execution_count": 176,
   "metadata": {
    "autoscroll": "json-false",
    "collapsed": false,
    "ein.tags": [
     "worksheet-0"
    ],
    "slideshow": {
     "slide_type": "-"
    }
   },
   "outputs": [],
   "source": [
    "assert(1)"
   ]
  },
  {
   "cell_type": "code",
   "execution_count": 177,
   "metadata": {
    "autoscroll": "json-false",
    "collapsed": false,
    "ein.tags": [
     "worksheet-0"
    ],
    "slideshow": {
     "slide_type": "-"
    }
   },
   "outputs": [
    {
     "data": {
      "text/plain": [
       "True"
      ]
     },
     "execution_count": 177,
     "metadata": {},
     "output_type": "execute_result"
    }
   ],
   "source": [
    "np.allclose(la.lu_solve((LU,p_),b1),lup_solve(LU,p,b1))"
   ]
  },
  {
   "cell_type": "code",
   "execution_count": 244,
   "metadata": {
    "autoscroll": "json-false",
    "collapsed": false,
    "ein.tags": [
     "worksheet-0"
    ],
    "slideshow": {
     "slide_type": "-"
    }
   },
   "outputs": [],
   "source": [
    "B = array([[4,-1,0,-1,30],[-1,4,-1,0,60],[0,-1,4,-1,70],[-1,0,-1,4,40]],dtype=float)"
   ]
  },
  {
   "cell_type": "code",
   "execution_count": 245,
   "metadata": {
    "autoscroll": "json-false",
    "collapsed": false,
    "ein.tags": [
     "worksheet-0"
    ],
    "slideshow": {
     "slide_type": "-"
    }
   },
   "outputs": [
    {
     "data": {
      "text/plain": [
       "array([[  4.,  -1.,   0.,  -1.,  30.],\n",
       "       [ -1.,   4.,  -1.,   0.,  60.],\n",
       "       [  0.,  -1.,   4.,  -1.,  70.],\n",
       "       [ -1.,   0.,  -1.,   4.,  40.]])"
      ]
     },
     "execution_count": 245,
     "metadata": {},
     "output_type": "execute_result"
    }
   ],
   "source": [
    "B"
   ]
  },
  {
   "cell_type": "code",
   "execution_count": 220,
   "metadata": {
    "autoscroll": "json-false",
    "collapsed": false,
    "ein.tags": [
     "worksheet-0"
    ],
    "slideshow": {
     "slide_type": "-"
    }
   },
   "outputs": [],
   "source": [
    "x = array([1,2,3,4])"
   ]
  },
  {
   "cell_type": "code",
   "execution_count": 237,
   "metadata": {
    "autoscroll": "json-false",
    "collapsed": false,
    "ein.tags": [
     "worksheet-0"
    ],
    "slideshow": {
     "slide_type": "-"
    }
   },
   "outputs": [],
   "source": [
    "C = B.copy()"
   ]
  },
  {
   "cell_type": "code",
   "execution_count": 246,
   "metadata": {
    "autoscroll": "json-false",
    "collapsed": false,
    "ein.tags": [
     "worksheet-0"
    ],
    "slideshow": {
     "slide_type": "-"
    }
   },
   "outputs": [
    {
     "data": {
      "text/plain": [
       "array([[  -1.,    0.,   -1.,    4.,   40.],\n",
       "       [   0.,   -1.,    4.,   -1.,   70.],\n",
       "       [   0.,    0.,   16.,   -8.,  300.],\n",
       "       [   0.,    0.,    0.,   12.,  270.]])"
      ]
     },
     "execution_count": 246,
     "metadata": {},
     "output_type": "execute_result"
    }
   ],
   "source": [
    "C = B.copy()\n",
    "C[[3,0]] = C[[0,3]];\n",
    "C[[2,1]] = C[[1,2]]\n",
    "C[2]-=C[0]\n",
    "C[2]+=4*C[1]\n",
    "C[3] += 4*C[0]\n",
    "C[3] -= C[1]\n",
    "C[3] += 0.5*C[2]\n"
   ]
  },
  {
   "cell_type": "code",
   "execution_count": 252,
   "metadata": {
    "autoscroll": "json-false",
    "collapsed": false,
    "ein.tags": [
     "worksheet-0"
    ],
    "slideshow": {
     "slide_type": "-"
    }
   },
   "outputs": [
    {
     "data": {
      "text/plain": [
       "array([ 20. ,  27.5,  30. ,  22.5])"
      ]
     },
     "execution_count": 252,
     "metadata": {},
     "output_type": "execute_result"
    }
   ],
   "source": [
    "A = C.copy()\n",
    "(n,m) = A.shape\n",
    "b = array([40,70,300,270])\n",
    "x = zeros(4)\n",
    "for i in range(n-1,-1,-1):\n",
    "    sum = reduce(op.add,map(lambda j: C[i,j]*x[j],range(i+1,n)),0)\n",
    "    x[i] = (b[i]-sum)/A[i,i]\n",
    "x"
   ]
  },
  {
   "cell_type": "code",
   "execution_count": 255,
   "metadata": {
    "autoscroll": "json-false",
    "collapsed": false,
    "ein.tags": [
     "worksheet-0"
    ],
    "slideshow": {
     "slide_type": "-"
    }
   },
   "outputs": [
    {
     "name": "stdout",
     "output_type": "stream",
     "text": [
      "[[  -1.    0.   -1.    4.   40.]\n",
      " [   0.   -1.    4.   -1.   70.]\n",
      " [   0.    0.   16.   -8.  300.]\n",
      " [   0.    0.    0.   12.  270.]]\n",
      "[ 20.   27.5  30.   22.5]\n"
     ]
    }
   ],
   "source": [
    "import numpy as np;\n",
    "import operator as op;\n",
    "from functools import reduce;\n",
    "A = array([[4,-1,0,-1,30],[-1,4,-1,0,60],\n",
    "           [0,-1,4,-1,70],[-1,0,-1,4,40]],dtype=float)\n",
    "A[[3,0]] = A[[0,3]]\n",
    "A[[2,1]] = A[[1,2]]\n",
    "A[2]-=A[0]\n",
    "A[2]+=4*A[1]\n",
    "A[3] += 4*A[0]\n",
    "A[3] -= A[1]\n",
    "A[3] += 0.5*A[2]\n",
    "print(A)\n",
    "b = A[:,4]\n",
    "x = np.zeros(4)\n",
    "for i in range(n-1,-1,-1):\n",
    "    sum = reduce(op.add,map(lambda j: C[i,j]*x[j],range(i+1,n)),0)\n",
    "    x[i] = (b[i]-sum)/A[i,i]\n",
    "print(x)"
   ]
  },
  {
   "cell_type": "code",
   "execution_count": 265,
   "metadata": {
    "autoscroll": "json-false",
    "collapsed": false,
    "ein.tags": [
     "worksheet-0"
    ],
    "slideshow": {
     "slide_type": "-"
    }
   },
   "outputs": [
    {
     "name": "stdout",
     "output_type": "stream",
     "text": [
      "Problem 5:\n",
      "LUP decomposition\n",
      "L =\n",
      "[[ 1.      , 0.      , 0.      , 0.      , 0.      ],\n",
      " [-0.      , 1.      , 0.      , 0.      , 0.      ],\n",
      " [-0.333333, 0.166667, 1.      , 0.      , 0.      ],\n",
      " [ 0.666667,-0.833333,-0.5     , 1.      , 0.      ],\n",
      " [-0.333333, 0.166667, 0.25    , 0.5     , 1.      ]]\n",
      "U =\n",
      "[[ -3.      ,  6.      ,-14.      ,-36.      , -2.      ],\n",
      " [  0.      , -6.      ,  4.      ,  6.      ,  0.      ],\n",
      " [  0.      ,  0.      , -1.333333, -5.      , -2.666667],\n",
      " [  0.      ,  0.      ,  0.      ,  0.5     ,  2.      ],\n",
      " [  0.      ,  0.      ,  0.      ,  0.      , -1.      ]]\n",
      "P =\n",
      "[[ 0., 0., 0., 0., 1.],\n",
      " [ 0., 0., 0., 1., 0.],\n",
      " [ 0., 0., 1., 0., 0.],\n",
      " [ 0., 1., 0., 0., 0.],\n",
      " [ 1., 0., 0., 0., 0.]]\n",
      "Solving Ax = b for various values of b\n",
      "b1 =\n",
      "[ 2., 3.,-1., 5., 7.]\n",
      "x1 =\n",
      "[ 19.      ,-18.666667,-47.      , 13.5     , -2.      ]\n",
      "b2 =\n",
      "[ 15., 29.,  8.,  4.,-49.]\n",
      "x2 =\n",
      "[ 175.      , -37.666667, -57.      ,   1.      ,  30.      ]\n",
      "b3 =\n",
      "[  8.,-11.,  3., -8.,-32.]\n",
      "x3 =\n",
      "[ 0., 3., 1., 1.,-0.]\n"
     ]
    }
   ],
   "source": [
    "do_problem_5(\"ps1_data.txt\")"
   ]
  },
  {
   "cell_type": "code",
   "execution_count": 266,
   "metadata": {
    "autoscroll": "json-false",
    "collapsed": false,
    "ein.tags": [
     "worksheet-0"
    ],
    "slideshow": {
     "slide_type": "-"
    }
   },
   "outputs": [],
   "source": [
    "tmp = array([[1,8,1],[5,2,3],[2,4,4]])/10"
   ]
  },
  {
   "cell_type": "code",
   "execution_count": 288,
   "metadata": {
    "autoscroll": "json-false",
    "collapsed": false,
    "ein.tags": [
     "worksheet-0"
    ],
    "slideshow": {
     "slide_type": "-"
    }
   },
   "outputs": [],
   "source": [
    "import sympy as sym\n",
    "from sympy.abc import x,y,z\n",
    "from sympy import *"
   ]
  },
  {
   "cell_type": "code",
   "execution_count": 320,
   "metadata": {
    "autoscroll": "json-false",
    "collapsed": false,
    "ein.tags": [
     "worksheet-0"
    ],
    "slideshow": {
     "slide_type": "-"
    }
   },
   "outputs": [],
   "source": [
    "A = Matrix([[.1,.8,.1],[.5,.2,.3],[.2,.4,.4]])\n",
    "D = Matrix([[.8,-.9,-10],[-.8,.3,-50],[.4,.4,80]])\n",
    "E = Matrix([[.8,-.9],[-.8,.3],[.4,.4]])\n",
    "F = Matrix([-10,-50,80])\n",
    "B = Matrix([[.1,.8,.1,x],[.5,.2,.3,y],[.2,.4,.4,100]])\n",
    "C = array([[.1,.8,.1],[.5,.2,.3],[.2,.4,.4]])"
   ]
  },
  {
   "cell_type": "code",
   "execution_count": 321,
   "metadata": {
    "autoscroll": "json-false",
    "collapsed": false,
    "ein.tags": [
     "worksheet-0"
    ],
    "slideshow": {
     "slide_type": "-"
    }
   },
   "outputs": [
    {
     "data": {
      "text/plain": [
       "{y: 100.000000000000, x: 100.000000000000}"
      ]
     },
     "execution_count": 321,
     "metadata": {},
     "output_type": "execute_result"
    }
   ],
   "source": [
    "solve_linear_system(D,x,y)"
   ]
  },
  {
   "cell_type": "code",
   "execution_count": 322,
   "metadata": {
    "autoscroll": "json-false",
    "collapsed": false,
    "ein.tags": [
     "worksheet-0"
    ],
    "slideshow": {
     "slide_type": "-"
    }
   },
   "outputs": [
    {
     "data": {
      "text/plain": [
       "Matrix([\n",
       "[100.0],\n",
       "[100.0]])"
      ]
     },
     "execution_count": 322,
     "metadata": {},
     "output_type": "execute_result"
    }
   ],
   "source": [
    "E.solve_least_squares(F)"
   ]
  },
  {
   "cell_type": "code",
   "execution_count": 323,
   "metadata": {
    "autoscroll": "json-false",
    "collapsed": false,
    "ein.tags": [
     "worksheet-0"
    ],
    "slideshow": {
     "slide_type": "-"
    }
   },
   "outputs": [
    {
     "data": {
      "text/plain": [
       "([{x: -7.0*y + 550.0}],\n",
       " [{x: 0.142857142857143*y + 14.2857142857143}],\n",
       " [{x: -0.75*y + 237.5}])"
      ]
     },
     "execution_count": 323,
     "metadata": {},
     "output_type": "execute_result"
    }
   ],
   "source": [
    "(solve(0.4*x + 2.8*y - 220.0,x,y),\n",
    " solve(  1.4*x - 0.2*y - 20.0,x,y),\n",
    " solve(-1.6*x - 1.2*y + 380.0,x,y))"
   ]
  },
  {
   "cell_type": "code",
   "execution_count": 0,
   "metadata": {
    "autoscroll": "json-false",
    "collapsed": false,
    "ein.tags": [
     "worksheet-0"
    ],
    "slideshow": {
     "slide_type": "-"
    }
   },
   "outputs": [],
   "source": [
    "from numpy import *"
   ]
  },
  {
   "cell_type": "code",
   "execution_count": 0,
   "metadata": {
    "autoscroll": "json-false",
    "collapsed": false,
    "ein.tags": [
     "worksheet-0"
    ],
    "slideshow": {
     "slide_type": "-"
    }
   },
   "outputs": [],
   "source": [
    "plt.close()"
   ]
  }
 ],
 "metadata": {
  "kernelspec": {
   "display_name": "Python 3",
   "name": "python3"
  },
  "name": "Untitled2.ipynb"
 },
 "nbformat": 4,
 "nbformat_minor": 0
}
